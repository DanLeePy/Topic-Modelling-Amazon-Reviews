{
 "cells": [
  {
   "cell_type": "code",
   "execution_count": 97,
   "metadata": {},
   "outputs": [
    {
     "name": "stdout",
     "output_type": "stream",
     "text": [
      "The lab_black extension is already loaded. To reload it, use:\n",
      "  %reload_ext lab_black\n"
     ]
    },
    {
     "name": "stderr",
     "output_type": "stream",
     "text": [
      "[nltk_data] Downloading package stopwords to\n",
      "[nltk_data]     C:\\Users\\dlwss\\AppData\\Roaming\\nltk_data...\n",
      "[nltk_data]   Package stopwords is already up-to-date!\n"
     ]
    }
   ],
   "source": [
    "import gensim\n",
    "import pandas as pd\n",
    "import nltk\n",
    "from nltk.corpus import stopwords\n",
    "import re\n",
    "import numpy as np\n",
    "import gensim.corpora as corpora\n",
    "from gensim.utils import simple_preprocess\n",
    "from gensim.models import CoherenceModel\n",
    "from gensim.models import TfidfModel\n",
    "from gensim.parsing.preprocessing import STOPWORDS\n",
    "from gensim.models import LsiModel\n",
    "import spacy\n",
    "import pyLDAvis\n",
    "import pyLDAvis.gensim\n",
    "import matplotlib.pyplot as plt\n",
    "from pprint import pprint\n",
    "import dill\n",
    "import os\n",
    "import datetime as dt\n",
    "import matplotlib.pyplot as plt\n",
    "import seaborn as sns\n",
    "\n",
    "sns.set()\n",
    "\n",
    "nltk.download(\"stopwords\")\n",
    "%load_ext lab_black\n",
    "\n",
    "import warnings\n",
    "\n",
    "warnings.filterwarnings(\"ignore\")"
   ]
  },
  {
   "cell_type": "markdown",
   "metadata": {},
   "source": [
    "# Question 1\n",
    "### (1) Figure out a good number of topics. Show the reason why you choose this number."
   ]
  },
  {
   "cell_type": "markdown",
   "metadata": {},
   "source": [
    "I decided to choose 2 Topics based on the best Coherence Score I obtained by conducting LDA on a BOW matrix of the dictionary of words from the review body found in the given dataset. \n",
    "\n",
    "After trying out LDA on a BOW matrix, LSA on a BOW matrix, LDA on as TFIDF matrix and LSA on a BOW matrix, the highest coherence score obtained was 0.6554 for 2 topics with LDA on a BOW matrix.\n",
    "\n",
    "I used the coherence score to measure the best number of topics to use as it represents that multiple words belonging to a given topic co occur frequently in the given corpus. Thus a higher coherence score would represent better topic representation.\n",
    "\n",
    "Workings and Coherence Score graphs can be found below."
   ]
  },
  {
   "cell_type": "code",
   "execution_count": 7,
   "metadata": {},
   "outputs": [],
   "source": [
    "df = pd.read_csv(\"data_assignment3_students.csv\")"
   ]
  },
  {
   "cell_type": "code",
   "execution_count": 8,
   "metadata": {},
   "outputs": [],
   "source": [
    "stop_words = stopwords.words(\"english\")\n",
    "stop_words.extend([\"from\", \"subject\", \"re\", \"edu\", \"use\", \"non\", \"hold\", \"br\"])\n",
    "stop_words = stop_words + list(STOPWORDS)\n",
    "nlp = spacy.load(\"en\", disable=[\"parser\", \"ner\"])"
   ]
  },
  {
   "cell_type": "code",
   "execution_count": 9,
   "metadata": {},
   "outputs": [],
   "source": [
    "def remove_stopwords(texts):\n",
    "    return [\n",
    "        [word for word in simple_preprocess(str(doc)) if word not in stop_words]\n",
    "        for doc in texts\n",
    "    ]\n",
    "\n",
    "\n",
    "def make_bigrams(texts):\n",
    "    return [bigram_mod[doc] for doc in texts]\n",
    "\n",
    "\n",
    "def lemmatization(texts, allowed_postags=[\"NOUN\", \"ADJ\", \"VERB\", \"ADV\"]):\n",
    "    texts_out = []\n",
    "    for sent in texts:\n",
    "        doc = nlp(\" \".join(sent))\n",
    "        texts_out.append(\n",
    "            [token.lemma_ for token in doc if token.pos_ in allowed_postags]\n",
    "        )\n",
    "    return texts_out\n",
    "\n",
    "\n",
    "def sent_to_words(sentences):\n",
    "    for sentence in sentences:\n",
    "        yield (gensim.utils.simple_preprocess(str(sentence), deacc=True))"
   ]
  },
  {
   "cell_type": "code",
   "execution_count": 24,
   "metadata": {},
   "outputs": [],
   "source": [
    "def compute_coherence_values(corpus, texts, limit, start=2, step=3, dictionary=id2word):\n",
    "    coherence_values = []\n",
    "    model_list = []\n",
    "    for num_topics in range(start, limit, step):\n",
    "        model = gensim.models.ldamodel.LdaModel(\n",
    "            corpus=corpus,\n",
    "            id2word=dictionary,\n",
    "            num_topics=num_topics,\n",
    "            random_state=100,\n",
    "            update_every=1,\n",
    "            chunksize=100,\n",
    "            passes=20,\n",
    "            alpha=\"auto\",\n",
    "            per_word_topics=True,\n",
    "        )\n",
    "        model_list.append(model)\n",
    "        coherencemodel = CoherenceModel(\n",
    "            model=model, texts=texts, dictionary=dictionary, coherence=\"c_v\"\n",
    "        )\n",
    "        coherence_values.append(coherencemodel.get_coherence())\n",
    "\n",
    "    return model_list, coherence_values"
   ]
  },
  {
   "cell_type": "code",
   "execution_count": 20,
   "metadata": {},
   "outputs": [],
   "source": [
    "data = df.review_body.values.tolist()\n",
    "data_words = list(sent_to_words(data))\n",
    "data_words_nostops = remove_stopwords(data_words)\n",
    "data_lemmatized = lemmatization(\n",
    "    data_words_nostops, allowed_postags=[\"NOUN\", \"ADJ\", \"VERB\", \"ADV\"]\n",
    ")"
   ]
  },
  {
   "cell_type": "code",
   "execution_count": 21,
   "metadata": {},
   "outputs": [],
   "source": [
    "id2word = corpora.Dictionary(data_lemmatized)\n",
    "\n",
    "texts = data_lemmatized\n",
    "\n",
    "corpus = [id2word.doc2bow(text) for text in texts]"
   ]
  },
  {
   "cell_type": "code",
   "execution_count": 8,
   "metadata": {},
   "outputs": [],
   "source": [
    "model = TfidfModel(corpus)\n",
    "tfidf_corpus = model[corpus]"
   ]
  },
  {
   "cell_type": "markdown",
   "metadata": {},
   "source": [
    "## BoW LDA"
   ]
  },
  {
   "cell_type": "code",
   "execution_count": 19,
   "metadata": {},
   "outputs": [],
   "source": [
    "model_list_bow, coherence_values_bow = compute_coherence_values(\n",
    "    dictionary=id2word, corpus=corpus, texts=data_lemmatized, start=2, limit=50, step=6\n",
    ")"
   ]
  },
  {
   "cell_type": "code",
   "execution_count": 20,
   "metadata": {},
   "outputs": [
    {
     "data": {
      "image/png": "[encoded data removed]",
      "text/plain": [
       "<Figure size 432x288 with 1 Axes>"
      ]
     },
     "metadata": {
      "needs_background": "light"
     },
     "output_type": "display_data"
    }
   ],
   "source": [
    "limit_bow = 50\n",
    "start_bow = 2\n",
    "step_bow = 6\n",
    "x_bow = range(start_bow, limit_bow, step_bow)\n",
    "plt.plot(x_bow, coherence_values_bow)\n",
    "plt.xlabel(\"Num Topics\")\n",
    "plt.ylabel(\"Coherence score\")\n",
    "plt.legend((\"coherence_values\"), loc=\"best\")\n",
    "plt.show()"
   ]
  },
  {
   "cell_type": "code",
   "execution_count": 21,
   "metadata": {},
   "outputs": [
    {
     "name": "stdout",
     "output_type": "stream",
     "text": [
      "Num Topics = 2  has Coherence Value of 0.6554\n",
      "Num Topics = 8  has Coherence Value of 0.4577\n",
      "Num Topics = 14  has Coherence Value of 0.4305\n",
      "Num Topics = 20  has Coherence Value of 0.4531\n",
      "Num Topics = 26  has Coherence Value of 0.4434\n",
      "Num Topics = 32  has Coherence Value of 0.4541\n",
      "Num Topics = 38  has Coherence Value of 0.4516\n",
      "Num Topics = 44  has Coherence Value of 0.4806\n"
     ]
    }
   ],
   "source": [
    "# Print the coherence scores\n",
    "for m, cv in zip(x_bow, coherence_values_bow):\n",
    "    print(\"Num Topics =\", m, \" has Coherence Value of\", round(cv, 4))"
   ]
  },
  {
   "cell_type": "code",
   "execution_count": 22,
   "metadata": {},
   "outputs": [
    {
     "name": "stdout",
     "output_type": "stream",
     "text": [
      "[([(0.10813569, 'card'),\n",
      "   (0.012656959, 'humanity'),\n",
      "   (0.011567607, 'answer'),\n",
      "   (0.010209584, 'box'),\n",
      "   (0.007977148, 'player'),\n",
      "   (0.0071689426, 'know'),\n",
      "   (0.0070111696, 'black'),\n",
      "   (0.0068611074, 'read'),\n",
      "   (0.006447003, 'try'),\n",
      "   (0.0061321366, 'word'),\n",
      "   (0.006072055, 'joke'),\n",
      "   (0.0058408403, 'review'),\n",
      "   (0.005627816, 'person'),\n",
      "   (0.0054410324, 'deck'),\n",
      "   (0.005433269, 'question'),\n",
      "   (0.005363216, 'feel'),\n",
      "   (0.0052533285, 'white'),\n",
      "   (0.0051686075, 'set'),\n",
      "   (0.0050134715, 'think'),\n",
      "   (0.0048181494, 'rule')],\n",
      "  0.8413779698377828),\n",
      " ([(0.115650274, 'game'),\n",
      "   (0.055145077, 'play'),\n",
      "   (0.040038884, 'fun'),\n",
      "   (0.027400777, 'friend'),\n",
      "   (0.026719207, 'great'),\n",
      "   (0.022282222, 'love'),\n",
      "   (0.018627847, 'good'),\n",
      "   (0.01729912, 'time'),\n",
      "   (0.0172548, 'people'),\n",
      "   (0.017055871, 'laugh'),\n",
      "   (0.01583155, 'apple'),\n",
      "   (0.01358452, 'buy'),\n",
      "   (0.012926953, 'adult'),\n",
      "   (0.012308625, 'party'),\n",
      "   (0.011027284, 'expansion'),\n",
      "   (0.0105476305, 'hilarious'),\n",
      "   (0.009383649, 'humor'),\n",
      "   (0.008627483, 'family'),\n",
      "   (0.008441824, 'pack'),\n",
      "   (0.0082899695, 'funny')],\n",
      "  0.4694716052867321)]\n"
     ]
    }
   ],
   "source": [
    "optimal_model_bow = model_list_bow[0]\n",
    "top_topics_bow = optimal_model_bow.top_topics(texts=data_lemmatized, coherence=\"c_v\")\n",
    "pprint(top_topics_bow)"
   ]
  },
  {
   "cell_type": "markdown",
   "metadata": {},
   "source": [
    "## TFIDF LDA"
   ]
  },
  {
   "cell_type": "code",
   "execution_count": 23,
   "metadata": {},
   "outputs": [],
   "source": [
    "model_list_tfidf, coherence_values_tfidf = compute_coherence_values(\n",
    "    dictionary=id2word,\n",
    "    corpus=tfidf_corpus,\n",
    "    texts=data_lemmatized,\n",
    "    start=2,\n",
    "    limit=50,\n",
    "    step=6,\n",
    ")"
   ]
  },
  {
   "cell_type": "code",
   "execution_count": 24,
   "metadata": {},
   "outputs": [
    {
     "data": {
      "image/png": "[encoded data removed]",
      "text/plain": [
       "<Figure size 432x288 with 1 Axes>"
      ]
     },
     "metadata": {
      "needs_background": "light"
     },
     "output_type": "display_data"
    }
   ],
   "source": [
    "tfidf_limit = 50\n",
    "tfidf_start = 2\n",
    "tfidf_step = 6\n",
    "tfidf_x = range(tfidf_start, tfidf_limit, tfidf_step)\n",
    "plt.plot(tfidf_x, coherence_values_tfidf)\n",
    "plt.xlabel(\"Num Topics\")\n",
    "plt.ylabel(\"Coherence score\")\n",
    "plt.legend((\"coherence_values\"), loc=\"best\")\n",
    "plt.show()"
   ]
  },
  {
   "cell_type": "code",
   "execution_count": 25,
   "metadata": {},
   "outputs": [
    {
     "name": "stdout",
     "output_type": "stream",
     "text": [
      "Num Topics = 2  has Coherence Value of 0.4472\n",
      "Num Topics = 8  has Coherence Value of 0.4229\n",
      "Num Topics = 14  has Coherence Value of 0.4401\n",
      "Num Topics = 20  has Coherence Value of 0.3635\n",
      "Num Topics = 26  has Coherence Value of 0.3506\n",
      "Num Topics = 32  has Coherence Value of 0.4802\n",
      "Num Topics = 38  has Coherence Value of 0.4726\n",
      "Num Topics = 44  has Coherence Value of 0.4564\n"
     ]
    }
   ],
   "source": [
    "# Print the coherence scores\n",
    "for m, cv in zip(tfidf_x, coherence_values_tfidf):\n",
    "    print(\"Num Topics =\", m, \" has Coherence Value of\", round(cv, 4))"
   ]
  },
  {
   "cell_type": "markdown",
   "metadata": {},
   "source": [
    "## BOW LSI"
   ]
  },
  {
   "cell_type": "code",
   "execution_count": 27,
   "metadata": {},
   "outputs": [],
   "source": [
    "def compute_coherence_values_lsi(dictionary, corpus, texts, limit, start=2, step=3):\n",
    "    coherence_values = []\n",
    "    model_list = []\n",
    "    for num_topics in range(start, limit, step):\n",
    "        model = LsiModel(\n",
    "            corpus=corpus, id2word=id2word, num_topics=num_topics, chunksize=100\n",
    "        )\n",
    "        model_list.append(model)\n",
    "        coherencemodel = CoherenceModel(\n",
    "            model=model, texts=texts, dictionary=dictionary, coherence=\"c_v\"\n",
    "        )\n",
    "        coherence_values.append(coherencemodel.get_coherence())\n",
    "\n",
    "    return model_list, coherence_values"
   ]
  },
  {
   "cell_type": "code",
   "execution_count": 28,
   "metadata": {},
   "outputs": [],
   "source": [
    "model_list_bow_lsi, coherence_values_bow_lsi = compute_coherence_values_lsi(\n",
    "    dictionary=id2word,\n",
    "    corpus=tfidf_corpus,\n",
    "    texts=data_lemmatized,\n",
    "    start=2,\n",
    "    limit=50,\n",
    "    step=6,\n",
    ")"
   ]
  },
  {
   "cell_type": "code",
   "execution_count": 29,
   "metadata": {},
   "outputs": [
    {
     "data": {
      "image/png": "[encoded data removed]",
      "text/plain": [
       "<Figure size 432x288 with 1 Axes>"
      ]
     },
     "metadata": {
      "needs_background": "light"
     },
     "output_type": "display_data"
    }
   ],
   "source": [
    "bow_lsi_limit = 50\n",
    "bow_lsi_start = 2\n",
    "bow_lsi_step = 6\n",
    "bow_lsi_x = range(bow_lsi_start, bow_lsi_limit, bow_lsi_step)\n",
    "plt.plot(bow_lsi_x, coherence_values_bow_lsi)\n",
    "plt.xlabel(\"Num Topics\")\n",
    "plt.ylabel(\"Coherence score\")\n",
    "plt.legend((\"coherence_values\"), loc=\"best\")\n",
    "plt.show()"
   ]
  },
  {
   "cell_type": "code",
   "execution_count": 30,
   "metadata": {},
   "outputs": [
    {
     "name": "stdout",
     "output_type": "stream",
     "text": [
      "Num Topics = 2  has Coherence Value of 0.4639\n",
      "Num Topics = 8  has Coherence Value of 0.4859\n",
      "Num Topics = 14  has Coherence Value of 0.5338\n",
      "Num Topics = 20  has Coherence Value of 0.5209\n",
      "Num Topics = 26  has Coherence Value of 0.5316\n",
      "Num Topics = 32  has Coherence Value of 0.5132\n",
      "Num Topics = 38  has Coherence Value of 0.4947\n",
      "Num Topics = 44  has Coherence Value of 0.4724\n"
     ]
    }
   ],
   "source": [
    "# Print the coherence scores\n",
    "for m, cv in zip(bow_lsi_x, coherence_values_bow_lsi):\n",
    "    print(\"Num Topics =\", m, \" has Coherence Value of\", round(cv, 4))"
   ]
  },
  {
   "cell_type": "markdown",
   "metadata": {},
   "source": [
    "## TFIDF LSI"
   ]
  },
  {
   "cell_type": "code",
   "execution_count": 32,
   "metadata": {},
   "outputs": [],
   "source": [
    "model_list_tfidf_lsi, coherence_values_tfidf_lsi = compute_coherence_values_lsi(\n",
    "    dictionary=id2word, corpus=corpus, texts=data_lemmatized, start=2, limit=50, step=6\n",
    ")"
   ]
  },
  {
   "cell_type": "code",
   "execution_count": 33,
   "metadata": {},
   "outputs": [
    {
     "data": {
      "image/png": "[encoded data removed]",
      "text/plain": [
       "<Figure size 432x288 with 1 Axes>"
      ]
     },
     "metadata": {
      "needs_background": "light"
     },
     "output_type": "display_data"
    }
   ],
   "source": [
    "tfidf_lsi_limit = 50\n",
    "tfidf_lsi_start = 2\n",
    "tfidf_lsi_step = 6\n",
    "tfidf_lsi_x = range(tfidf_lsi_start, tfidf_lsi_limit, tfidf_lsi_step)\n",
    "plt.plot(tfidf_lsi_x, coherence_values_tfidf_lsi)\n",
    "plt.xlabel(\"Num Topics\")\n",
    "plt.ylabel(\"Coherence score\")\n",
    "plt.legend((\"coherence_values\"), loc=\"best\")\n",
    "plt.show()"
   ]
  },
  {
   "cell_type": "code",
   "execution_count": 34,
   "metadata": {},
   "outputs": [
    {
     "name": "stdout",
     "output_type": "stream",
     "text": [
      "Num Topics = 2  has Coherence Value of 0.4692\n",
      "Num Topics = 8  has Coherence Value of 0.6042\n",
      "Num Topics = 14  has Coherence Value of 0.5957\n",
      "Num Topics = 20  has Coherence Value of 0.5649\n",
      "Num Topics = 26  has Coherence Value of 0.5803\n",
      "Num Topics = 32  has Coherence Value of 0.6082\n",
      "Num Topics = 38  has Coherence Value of 0.5967\n",
      "Num Topics = 44  has Coherence Value of 0.612\n"
     ]
    }
   ],
   "source": [
    "# Print the coherence scores\n",
    "for m, cv in zip(tfidf_lsi_x, coherence_values_tfidf_lsi):\n",
    "    print(\"Num Topics =\", m, \" has Coherence Value of\", round(cv, 4))"
   ]
  },
  {
   "cell_type": "markdown",
   "metadata": {},
   "source": [
    "# Question 2\n",
    "### (2) Print out the resulting topics, each topic as a list of 20 words."
   ]
  },
  {
   "cell_type": "code",
   "execution_count": 98,
   "metadata": {},
   "outputs": [],
   "source": [
    "lst = []\n",
    "for j in range(0, 2):\n",
    "    top = pd.Series([top_topics_bow[j][0][i][1] for i in range(0, 20)])\n",
    "    lst.append(top)"
   ]
  },
  {
   "cell_type": "code",
   "execution_count": 42,
   "metadata": {},
   "outputs": [
    {
     "data": {
      "text/html": [
       "<div>\n",
       "<style scoped>\n",
       "    .dataframe tbody tr th:only-of-type {\n",
       "        vertical-align: middle;\n",
       "    }\n",
       "\n",
       "    .dataframe tbody tr th {\n",
       "        vertical-align: top;\n",
       "    }\n",
       "\n",
       "    .dataframe thead th {\n",
       "        text-align: right;\n",
       "    }\n",
       "</style>\n",
       "<table border=\"1\" class=\"dataframe\">\n",
       "  <thead>\n",
       "    <tr style=\"text-align: right;\">\n",
       "      <th></th>\n",
       "      <th>Topic 1</th>\n",
       "      <th>Topic 2</th>\n",
       "    </tr>\n",
       "  </thead>\n",
       "  <tbody>\n",
       "    <tr>\n",
       "      <td>Word 1</td>\n",
       "      <td>card</td>\n",
       "      <td>game</td>\n",
       "    </tr>\n",
       "    <tr>\n",
       "      <td>Word 2</td>\n",
       "      <td>humanity</td>\n",
       "      <td>play</td>\n",
       "    </tr>\n",
       "    <tr>\n",
       "      <td>Word 3</td>\n",
       "      <td>answer</td>\n",
       "      <td>fun</td>\n",
       "    </tr>\n",
       "    <tr>\n",
       "      <td>Word 4</td>\n",
       "      <td>box</td>\n",
       "      <td>friend</td>\n",
       "    </tr>\n",
       "    <tr>\n",
       "      <td>Word 5</td>\n",
       "      <td>player</td>\n",
       "      <td>great</td>\n",
       "    </tr>\n",
       "    <tr>\n",
       "      <td>Word 6</td>\n",
       "      <td>know</td>\n",
       "      <td>love</td>\n",
       "    </tr>\n",
       "    <tr>\n",
       "      <td>Word 7</td>\n",
       "      <td>black</td>\n",
       "      <td>good</td>\n",
       "    </tr>\n",
       "    <tr>\n",
       "      <td>Word 8</td>\n",
       "      <td>read</td>\n",
       "      <td>time</td>\n",
       "    </tr>\n",
       "    <tr>\n",
       "      <td>Word 9</td>\n",
       "      <td>try</td>\n",
       "      <td>people</td>\n",
       "    </tr>\n",
       "    <tr>\n",
       "      <td>Word 10</td>\n",
       "      <td>word</td>\n",
       "      <td>laugh</td>\n",
       "    </tr>\n",
       "    <tr>\n",
       "      <td>Word 11</td>\n",
       "      <td>joke</td>\n",
       "      <td>apple</td>\n",
       "    </tr>\n",
       "    <tr>\n",
       "      <td>Word 12</td>\n",
       "      <td>review</td>\n",
       "      <td>buy</td>\n",
       "    </tr>\n",
       "    <tr>\n",
       "      <td>Word 13</td>\n",
       "      <td>person</td>\n",
       "      <td>adult</td>\n",
       "    </tr>\n",
       "    <tr>\n",
       "      <td>Word 14</td>\n",
       "      <td>deck</td>\n",
       "      <td>party</td>\n",
       "    </tr>\n",
       "    <tr>\n",
       "      <td>Word 15</td>\n",
       "      <td>question</td>\n",
       "      <td>expansion</td>\n",
       "    </tr>\n",
       "    <tr>\n",
       "      <td>Word 16</td>\n",
       "      <td>feel</td>\n",
       "      <td>hilarious</td>\n",
       "    </tr>\n",
       "    <tr>\n",
       "      <td>Word 17</td>\n",
       "      <td>white</td>\n",
       "      <td>humor</td>\n",
       "    </tr>\n",
       "    <tr>\n",
       "      <td>Word 18</td>\n",
       "      <td>set</td>\n",
       "      <td>family</td>\n",
       "    </tr>\n",
       "    <tr>\n",
       "      <td>Word 19</td>\n",
       "      <td>think</td>\n",
       "      <td>pack</td>\n",
       "    </tr>\n",
       "    <tr>\n",
       "      <td>Word 20</td>\n",
       "      <td>rule</td>\n",
       "      <td>funny</td>\n",
       "    </tr>\n",
       "  </tbody>\n",
       "</table>\n",
       "</div>"
      ],
      "text/plain": [
       "          Topic 1    Topic 2\n",
       "Word 1       card       game\n",
       "Word 2   humanity       play\n",
       "Word 3     answer        fun\n",
       "Word 4        box     friend\n",
       "Word 5     player      great\n",
       "Word 6       know       love\n",
       "Word 7      black       good\n",
       "Word 8       read       time\n",
       "Word 9        try     people\n",
       "Word 10      word      laugh\n",
       "Word 11      joke      apple\n",
       "Word 12    review        buy\n",
       "Word 13    person      adult\n",
       "Word 14      deck      party\n",
       "Word 15  question  expansion\n",
       "Word 16      feel  hilarious\n",
       "Word 17     white      humor\n",
       "Word 18       set     family\n",
       "Word 19     think       pack\n",
       "Word 20      rule      funny"
      ]
     },
     "execution_count": 42,
     "metadata": {},
     "output_type": "execute_result"
    }
   ],
   "source": [
    "words = pd.DataFrame(lst).T\n",
    "words.columns = [(\"Topic \" + str(x + 1)) for x in words.columns]\n",
    "words.index = [(\"Word \" + str(x + 1)) for x in words.index]\n",
    "words"
   ]
  },
  {
   "cell_type": "markdown",
   "metadata": {},
   "source": [
    "# Question 3\n",
    "### (3) Summarize the change of topics that consumers talk about this product over time."
   ]
  },
  {
   "cell_type": "markdown",
   "metadata": {},
   "source": [
    "After doing LDA on the entire corpus and retrieving two topics, I realised that Topic 1 was referring more towards the \"Card against Humanity\" product specifically while Topic 2 refers more towards \"Entertainment\" in general.\n",
    "\n",
    "I split the corpus into 5 years, 2011, 2012, 2013, 2014 and 2015.\n",
    "\n",
    "The 2 topics have stayed similar in each of the 5 years after looking at the top 20 words printed for each topic for each of the 5 years.\n",
    "\n",
    "However, in 2014 and 2015 I noted words in the \"Cards against Humanity\" topic such as \"Horrible\", \"Offensive\", \"Horrify\" and \"Stupid\" which I can infer were negative reviews related to the product. On the other hand, in 2011 and 2012 I noted words in the same topic such as \"Recommend\", \"Good\", \"Love\" and \"Fun\" which I can infer were positive reviews related to the product.\n",
    "\n",
    "Thus, I can infer that there was a general change of perception towards \"Cards against Humanity\" from more positive reviews in 2011 and 2012 to more negative reviews in 2014 and 2015.\n",
    "\n",
    "In each of the 5 years the Coherence score of Topic 1 was higher than Topic 2. However the gap enlarged dramatically in 2013. I can infer that the \"Cards against Humanity\" product was discussed more frequently than \"Entertainment\" but relatively much more in 2013.\n",
    "\n",
    "The Coherence score for both topics generally increased each year with the exception being Topic 1 decreasing from 2013 to 2014 after a large spike. Meaning the two topics were discussed more and more each year relative to other topics. \n",
    "\n",
    "Workings, Top 20 words for each topic for each year, a table of Coherences scores and a graph of Coherence Scores can be found below."
   ]
  },
  {
   "cell_type": "code",
   "execution_count": 11,
   "metadata": {},
   "outputs": [],
   "source": [
    "df.review_date = pd.to_datetime(df.review_date)\n",
    "df.year = df.review_date.dt.year"
   ]
  },
  {
   "cell_type": "code",
   "execution_count": 12,
   "metadata": {},
   "outputs": [],
   "source": [
    "years = list(df.year.unique())\n",
    "dflist = [\"df\" + str(x) for x in years]\n",
    "yearint = [int(i) for i in years]\n",
    "dfdict = {}\n",
    "for (x, z) in zip(dflist, yearint):\n",
    "    dfdict[x] = pd.DataFrame()\n",
    "    dfdict[x] = df[df.year == z]"
   ]
  },
  {
   "cell_type": "code",
   "execution_count": 13,
   "metadata": {},
   "outputs": [],
   "source": [
    "def data_process(df):\n",
    "    data = df.review_body.values.tolist()\n",
    "    data_words = list(sent_to_words(data))\n",
    "    data_words_nostops = remove_stopwords(data_words)\n",
    "    data_lemmatized = lemmatization(\n",
    "        data_words_nostops, allowed_postags=[\"NOUN\", \"ADJ\", \"VERB\", \"ADV\"]\n",
    "    )\n",
    "    return data_lemmatized\n",
    "\n",
    "\n",
    "def data_id2word(lemmadict):\n",
    "    id2word = corpora.Dictionary(lemmadict)\n",
    "    return id2word\n",
    "\n",
    "\n",
    "def data_corpus(lemmadict, id2worddict):\n",
    "    corpus = [id2worddict.doc2bow(text) for text in lemmadict]\n",
    "    return corpus"
   ]
  },
  {
   "cell_type": "code",
   "execution_count": 14,
   "metadata": {},
   "outputs": [],
   "source": [
    "corpusdict = {}\n",
    "id2worddict = {}\n",
    "lemmadict = {}\n",
    "for key in dfdict:\n",
    "    lemmadict[key] = data_process(dfdict[key])\n",
    "    id2worddict[key] = data_id2word(lemmadict[key])\n",
    "    corpusdict[key] = data_corpus(lemmadict[key], id2worddict[key])"
   ]
  },
  {
   "cell_type": "code",
   "execution_count": 25,
   "metadata": {},
   "outputs": [],
   "source": [
    "modeldict = {}\n",
    "coherencedict = {}\n",
    "\n",
    "for key in dfdict:\n",
    "    modeldict[key], coherencedict[key] = compute_coherence_values(\n",
    "        dictionary=id2worddict[key],\n",
    "        corpus=corpusdict[key],\n",
    "        texts=lemmadict[key],\n",
    "        start=2,\n",
    "        limit=50,\n",
    "        step=6,\n",
    "    )"
   ]
  },
  {
   "cell_type": "code",
   "execution_count": 62,
   "metadata": {},
   "outputs": [
    {
     "name": "stdout",
     "output_type": "stream",
     "text": [
      "df2014\n",
      "[([(0.091058575, 'card'),\n",
      "   (0.044152655, 'apple'),\n",
      "   (0.0138595225, 'say'),\n",
      "   (0.010853894, 'answer'),\n",
      "   (0.010830854, 'win'),\n",
      "   (0.009949914, 'think'),\n",
      "   (0.009467353, 'player'),\n",
      "   (0.008973364, 'person'),\n",
      "   (0.008808316, 'type'),\n",
      "   (0.00805101, 'humanity'),\n",
      "   (0.007875266, 'box'),\n",
      "   (0.007836415, 'simply'),\n",
      "   (0.007629881, 'version'),\n",
      "   (0.0076219314, 'stupid'),\n",
      "   (0.0075949198, 'site'),\n",
      "   (0.0074601485, 'toss'),\n",
      "   (0.007330065, 'horrify'),\n",
      "   (0.0071658376, 'read'),\n",
      "   (0.0070010764, 'black'),\n",
      "   (0.006833449, 'actually')],\n",
      "  0.4962588885179689),\n",
      " ([(0.110466965, 'game'),\n",
      "   (0.058150165, 'play'),\n",
      "   (0.040296514, 'fun'),\n",
      "   (0.031074127, 'friend'),\n",
      "   (0.021009212, 'love'),\n",
      "   (0.019991126, 'people'),\n",
      "   (0.019642342, 'great'),\n",
      "   (0.01672898, 'laugh'),\n",
      "   (0.01642822, 'good'),\n",
      "   (0.015038522, 'time'),\n",
      "   (0.014010193, 'adult'),\n",
      "   (0.013484832, 'hilarious'),\n",
      "   (0.012167344, 'buy'),\n",
      "   (0.01170538, 'group'),\n",
      "   (0.010518862, 'humor'),\n",
      "   (0.010211912, 'party'),\n",
      "   (0.010045913, 'expansion'),\n",
      "   (0.008882361, 'family'),\n",
      "   (0.0086283665, 'lot'),\n",
      "   (0.008528942, 'sense')],\n",
      "  0.4173130895699325)]\n",
      "\n",
      "\n",
      "\n",
      "\n",
      "df2015\n",
      "[([(0.07929372, 'card'),\n",
      "   (0.0254938, 'people'),\n",
      "   (0.024254056, 'apple'),\n",
      "   (0.022868909, 'humor'),\n",
      "   (0.017860774, 'horrible'),\n",
      "   (0.015921526, 'sense'),\n",
      "   (0.014251, 'person'),\n",
      "   (0.013788082, 'know'),\n",
      "   (0.011178515, 'go'),\n",
      "   (0.009813372, 'humanity'),\n",
      "   (0.00949661, 'box'),\n",
      "   (0.009166297, 'way'),\n",
      "   (0.008417901, 'help'),\n",
      "   (0.0073326575, 'thing'),\n",
      "   (0.007154356, 'offer'),\n",
      "   (0.006419448, 'think'),\n",
      "   (0.0061001047, 'say'),\n",
      "   (0.005685112, 'answer'),\n",
      "   (0.004860439, 'offensive'),\n",
      "   (0.004670252, 'sincerely')],\n",
      "  0.6406085769285237),\n",
      " ([(0.13817723, 'game'),\n",
      "   (0.055232607, 'fun'),\n",
      "   (0.05332902, 'play'),\n",
      "   (0.036733977, 'love'),\n",
      "   (0.03559588, 'great'),\n",
      "   (0.028603092, 'friend'),\n",
      "   (0.023372473, 'good'),\n",
      "   (0.020416044, 'time'),\n",
      "   (0.018417623, 'laugh'),\n",
      "   (0.015656551, 'buy'),\n",
      "   (0.013915105, 'adult'),\n",
      "   (0.013792418, 'expansion'),\n",
      "   (0.011852005, 'party'),\n",
      "   (0.011806299, 'pack'),\n",
      "   (0.011623451, 'hilarious'),\n",
      "   (0.010940307, 'family'),\n",
      "   (0.009920902, 'funny'),\n",
      "   (0.008959919, 'awesome'),\n",
      "   (0.008798429, 'get'),\n",
      "   (0.008389902, 'easily')],\n",
      "  0.46531115056439454)]\n",
      "\n",
      "\n",
      "\n",
      "\n",
      "df2012\n",
      "[([(0.086438164, 'apple'),\n",
      "   (0.0704786, 'card'),\n",
      "   (0.01653377, 'answer'),\n",
      "   (0.0129837105, 'black'),\n",
      "   (0.010991441, 'white'),\n",
      "   (0.009859721, 'question'),\n",
      "   (0.009135519, 'player'),\n",
      "   (0.008396633, 'rule'),\n",
      "   (0.007258905, 'czar'),\n",
      "   (0.0067143333, 'point'),\n",
      "   (0.0054025664, 'funny'),\n",
      "   (0.0053503797, 'win'),\n",
      "   (0.0052776155, 'similar'),\n",
      "   (0.005185395, 'box'),\n",
      "   (0.0050899093, 'blank'),\n",
      "   (0.004553787, 'humanity'),\n",
      "   (0.004463372, 'draw'),\n",
      "   (0.0042815874, 'get'),\n",
      "   (0.0041711093, 'basically'),\n",
      "   (0.0040721605, 'round')],\n",
      "  0.47789041555301404),\n",
      " ([(0.082992084, 'game'),\n",
      "   (0.045294024, 'play'),\n",
      "   (0.023525275, 'friend'),\n",
      "   (0.020715324, 'card'),\n",
      "   (0.019448638, 'fun'),\n",
      "   (0.016267836, 'people'),\n",
      "   (0.013874159, 'time'),\n",
      "   (0.01372798, 'laugh'),\n",
      "   (0.013066038, 'great'),\n",
      "   (0.011592009, 'good'),\n",
      "   (0.010855372, 'love'),\n",
      "   (0.010595724, 'party'),\n",
      "   (0.009809859, 'humor'),\n",
      "   (0.009733612, 'buy'),\n",
      "   (0.007961401, 'expansion'),\n",
      "   (0.0074792164, 'recommend'),\n",
      "   (0.007457469, 'sense'),\n",
      "   (0.007195446, 'adult'),\n",
      "   (0.006313799, 'group'),\n",
      "   (0.0062900246, 'offend')],\n",
      "  0.3613198340702159)]\n",
      "\n",
      "\n",
      "\n",
      "\n",
      "df2013\n",
      "[([(0.04627031, 'card'),\n",
      "   (0.017476566, 'answer'),\n",
      "   (0.013353874, 'player'),\n",
      "   (0.012032417, 'read'),\n",
      "   (0.010957475, 'box'),\n",
      "   (0.010862142, 'black'),\n",
      "   (0.0086245015, 'review'),\n",
      "   (0.0075968415, 'white'),\n",
      "   (0.0075837285, 'rule'),\n",
      "   (0.00720491, 'amazon'),\n",
      "   (0.007088501, 'win'),\n",
      "   (0.0062554367, 'print'),\n",
      "   (0.0062409206, 'pay'),\n",
      "   (0.006040514, 'price'),\n",
      "   (0.005974752, 'star'),\n",
      "   (0.0056811944, 'choose'),\n",
      "   (0.0052772244, 'stock'),\n",
      "   (0.0051996843, 'question'),\n",
      "   (0.005054166, 'website'),\n",
      "   (0.0049568913, 'simple')],\n",
      "  0.6618913838035432),\n",
      " ([(0.09396615, 'game'),\n",
      "   (0.050763324, 'play'),\n",
      "   (0.026369767, 'friend'),\n",
      "   (0.02551009, 'apple'),\n",
      "   (0.024093589, 'fun'),\n",
      "   (0.01934062, 'card'),\n",
      "   (0.018053683, 'great'),\n",
      "   (0.017637176, 'people'),\n",
      "   (0.01602554, 'laugh'),\n",
      "   (0.014567616, 'time'),\n",
      "   (0.014420429, 'love'),\n",
      "   (0.012942413, 'buy'),\n",
      "   (0.012510372, 'good'),\n",
      "   (0.0119991, 'party'),\n",
      "   (0.010703584, 'adult'),\n",
      "   (0.010190907, 'humor'),\n",
      "   (0.009416811, 'expansion'),\n",
      "   (0.008601703, 'hilarious'),\n",
      "   (0.0083138775, 'group'),\n",
      "   (0.007704923, 'recommend')],\n",
      "  0.3527056162541423)]\n",
      "\n",
      "\n",
      "\n",
      "\n",
      "df2011\n",
      "[([(0.06013252, 'game'),\n",
      "   (0.03291069, 'card'),\n",
      "   (0.031070711, 'play'),\n",
      "   (0.022542838, 'apple'),\n",
      "   (0.01871633, 'friend'),\n",
      "   (0.012690399, 'people'),\n",
      "   (0.012180729, 'buy'),\n",
      "   (0.009863369, 'fun'),\n",
      "   (0.008251864, 'time'),\n",
      "   (0.0075123208, 'love'),\n",
      "   (0.007511956, 'party'),\n",
      "   (0.006997936, 'copy'),\n",
      "   (0.006993786, 'good'),\n",
      "   (0.0064783692, 'humor'),\n",
      "   (0.006477796, 'group'),\n",
      "   (0.0064763664, 'want'),\n",
      "   (0.006476025, 'humanity'),\n",
      "   (0.005958644, 'great'),\n",
      "   (0.005957271, 'think'),\n",
      "   (0.005442967, 'recommend')],\n",
      "  0.28694358321328123),\n",
      " ([(0.043988828, 'game'),\n",
      "   (0.030906627, 'play'),\n",
      "   (0.029237438, 'apple'),\n",
      "   (0.025943875, 'card'),\n",
      "   (0.012156094, 'laugh'),\n",
      "   (0.011501191, 'good'),\n",
      "   (0.0101867085, 'party'),\n",
      "   (0.009775182, 'friend'),\n",
      "   (0.009248145, 'time'),\n",
      "   (0.008212562, 'group'),\n",
      "   (0.0075610923, 'people'),\n",
      "   (0.0075567123, 'great'),\n",
      "   (0.007203978, 'fun'),\n",
      "   (0.006900283, 'love'),\n",
      "   (0.006243231, 'humanity'),\n",
      "   (0.0062430147, 'adult'),\n",
      "   (0.005583064, 'humor'),\n",
      "   (0.0053803986, 'hilarious'),\n",
      "   (0.0049280687, 'hard'),\n",
      "   (0.0049272226, 'go')],\n",
      "  0.21887211995910943)]\n",
      "\n",
      "\n",
      "\n",
      "\n"
     ]
    }
   ],
   "source": [
    "# Print the coherence scores\n",
    "score = pd.DataFrame(columns=[\"Topic_1\", \"Topic_2\"], index=list(modeldict.keys()))\n",
    "for key in modeldict:\n",
    "    print(key)\n",
    "    optimal_model_bow = modeldict[key][0]\n",
    "    top_topics_bow = optimal_model_bow.top_topics(texts=lemmadict[key], coherence=\"c_v\")\n",
    "    pprint(top_topics_bow)\n",
    "    for j in range(0, 2):\n",
    "        score.loc[key][j] = top_topics_bow[j][1]\n",
    "    print(\"\\n\\n\\n\")"
   ]
  },
  {
   "cell_type": "code",
   "execution_count": 104,
   "metadata": {},
   "outputs": [],
   "source": [
    "score.index = [\"2015\", \"2013\", \"2014\", \"2011\", \"2012\"]\n",
    "score = score.sort_index()"
   ]
  },
  {
   "cell_type": "code",
   "execution_count": 105,
   "metadata": {},
   "outputs": [
    {
     "data": {
      "text/html": [
       "<div>\n",
       "<style scoped>\n",
       "    .dataframe tbody tr th:only-of-type {\n",
       "        vertical-align: middle;\n",
       "    }\n",
       "\n",
       "    .dataframe tbody tr th {\n",
       "        vertical-align: top;\n",
       "    }\n",
       "\n",
       "    .dataframe thead th {\n",
       "        text-align: right;\n",
       "    }\n",
       "</style>\n",
       "<table border=\"1\" class=\"dataframe\">\n",
       "  <thead>\n",
       "    <tr style=\"text-align: right;\">\n",
       "      <th></th>\n",
       "      <th>Topic_1</th>\n",
       "      <th>Topic_2</th>\n",
       "    </tr>\n",
       "  </thead>\n",
       "  <tbody>\n",
       "    <tr>\n",
       "      <td>2011</td>\n",
       "      <td>0.286944</td>\n",
       "      <td>0.218872</td>\n",
       "    </tr>\n",
       "    <tr>\n",
       "      <td>2012</td>\n",
       "      <td>0.47789</td>\n",
       "      <td>0.36132</td>\n",
       "    </tr>\n",
       "    <tr>\n",
       "      <td>2013</td>\n",
       "      <td>0.661891</td>\n",
       "      <td>0.352706</td>\n",
       "    </tr>\n",
       "    <tr>\n",
       "      <td>2014</td>\n",
       "      <td>0.496259</td>\n",
       "      <td>0.417313</td>\n",
       "    </tr>\n",
       "    <tr>\n",
       "      <td>2015</td>\n",
       "      <td>0.640609</td>\n",
       "      <td>0.465311</td>\n",
       "    </tr>\n",
       "  </tbody>\n",
       "</table>\n",
       "</div>"
      ],
      "text/plain": [
       "       Topic_1   Topic_2\n",
       "2011  0.286944  0.218872\n",
       "2012   0.47789   0.36132\n",
       "2013  0.661891  0.352706\n",
       "2014  0.496259  0.417313\n",
       "2015  0.640609  0.465311"
      ]
     },
     "execution_count": 105,
     "metadata": {},
     "output_type": "execute_result"
    }
   ],
   "source": [
    "score"
   ]
  },
  {
   "cell_type": "code",
   "execution_count": 109,
   "metadata": {},
   "outputs": [
    {
     "data": {
      "image/png": "[encoded data removed]",
      "text/plain": [
       "<Figure size 432x288 with 1 Axes>"
      ]
     },
     "metadata": {},
     "output_type": "display_data"
    }
   ],
   "source": [
    "fig, ax = plt.subplots()\n",
    "x = np.arange(len(score))\n",
    "width = 0.35\n",
    "\n",
    "\n",
    "ax.bar(x - width / 2, score[\"Topic_1\"], width, edgecolor=\"white\", label=\"Topic 1\")\n",
    "ax.bar(x + width / 2, score[\"Topic_2\"], width, edgecolor=\"white\", label=\"Topic 2\")\n",
    "\n",
    "ax.set_xticklabels([\"\", \"2011\", \"2012\", \"2013\", \"2014\", \"2015\"])\n",
    "ax.legend()\n",
    "ax.set_ylabel(\"Coherence Score\")\n",
    "ax.set_xlabel(\"Year\")\n",
    "ax.set_title(\"Coherence Score by Year\")\n",
    "\n",
    "plt.show()"
   ]
  }
 ],
 "metadata": {
  "kernelspec": {
   "display_name": "Python 3",
   "language": "python",
   "name": "python3"
  },
  "language_info": {
   "codemirror_mode": {
    "name": "ipython",
    "version": 3
   },
   "file_extension": ".py",
   "mimetype": "text/x-python",
   "name": "python",
   "nbconvert_exporter": "python",
   "pygments_lexer": "ipython3",
   "version": "3.7.4"
  }
 },
 "nbformat": 4,
 "nbformat_minor": 4
}
